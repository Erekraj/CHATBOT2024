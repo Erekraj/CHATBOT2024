{
 "cells": [
  {
   "cell_type": "code",
   "execution_count": 1,
   "id": "8f4dcc83-9007-4272-a899-311cf2ad0772",
   "metadata": {},
   "outputs": [
    {
     "name": "stdout",
     "output_type": "stream",
     "text": [
      "Requirement already satisfied: openai in c:\\users\\rahul\\anaconda3\\lib\\site-packages (0.28.0)\n",
      "Requirement already satisfied: beautifulsoup4 in c:\\users\\rahul\\anaconda3\\lib\\site-packages (4.12.2)\n",
      "Requirement already satisfied: requests in c:\\users\\rahul\\anaconda3\\lib\\site-packages (2.31.0)\n",
      "Requirement already satisfied: tqdm in c:\\users\\rahul\\anaconda3\\lib\\site-packages (from openai) (4.65.0)\n",
      "Requirement already satisfied: aiohttp in c:\\users\\rahul\\anaconda3\\lib\\site-packages (from openai) (3.9.3)\n",
      "Requirement already satisfied: soupsieve>1.2 in c:\\users\\rahul\\anaconda3\\lib\\site-packages (from beautifulsoup4) (2.5)\n",
      "Requirement already satisfied: charset-normalizer<4,>=2 in c:\\users\\rahul\\anaconda3\\lib\\site-packages (from requests) (2.0.4)\n",
      "Requirement already satisfied: idna<4,>=2.5 in c:\\users\\rahul\\anaconda3\\lib\\site-packages (from requests) (3.4)\n",
      "Requirement already satisfied: urllib3<3,>=1.21.1 in c:\\users\\rahul\\anaconda3\\lib\\site-packages (from requests) (2.0.7)\n",
      "Requirement already satisfied: certifi>=2017.4.17 in c:\\users\\rahul\\anaconda3\\lib\\site-packages (from requests) (2024.8.30)\n",
      "Requirement already satisfied: aiosignal>=1.1.2 in c:\\users\\rahul\\anaconda3\\lib\\site-packages (from aiohttp->openai) (1.2.0)\n",
      "Requirement already satisfied: attrs>=17.3.0 in c:\\users\\rahul\\anaconda3\\lib\\site-packages (from aiohttp->openai) (24.2.0)\n",
      "Requirement already satisfied: frozenlist>=1.1.1 in c:\\users\\rahul\\anaconda3\\lib\\site-packages (from aiohttp->openai) (1.4.0)\n",
      "Requirement already satisfied: multidict<7.0,>=4.5 in c:\\users\\rahul\\anaconda3\\lib\\site-packages (from aiohttp->openai) (6.0.4)\n",
      "Requirement already satisfied: yarl<2.0,>=1.0 in c:\\users\\rahul\\anaconda3\\lib\\site-packages (from aiohttp->openai) (1.9.3)\n",
      "Requirement already satisfied: colorama in c:\\users\\rahul\\anaconda3\\lib\\site-packages (from tqdm->openai) (0.4.6)\n",
      "Note: you may need to restart the kernel to use updated packages.\n"
     ]
    }
   ],
   "source": [
    "pip install openai beautifulsoup4 requests\n"
   ]
  },
  {
   "cell_type": "code",
   "execution_count": 2,
   "id": "c403276b-1a46-4c5a-94b7-faacf247de7b",
   "metadata": {},
   "outputs": [],
   "source": [
    "import os\n",
    "import openai\n",
    "import requests\n",
    "from bs4 import BeautifulSoup"
   ]
  },
  {
   "cell_type": "code",
   "execution_count": 3,
   "id": "c05ca5a0-5ecd-49c5-9c73-d41970da72bb",
   "metadata": {},
   "outputs": [
    {
     "name": "stdout",
     "output_type": "stream",
     "text": [
      "Chatbot: I'm a student at the University of Texas at Austin.\n"
     ]
    }
   ],
   "source": [
    "from transformers import AutoModelForCausalLM, AutoTokenizer\n",
    "\n",
    "# Load model and tokenizer\n",
    "model_name = \"microsoft/DialoGPT-medium\"\n",
    "tokenizer = AutoTokenizer.from_pretrained(model_name)\n",
    "model = AutoModelForCausalLM.from_pretrained(model_name)\n",
    "\n",
    "# Ensure the tokenizer has a unique pad_token_id\n",
    "if tokenizer.pad_token is None:\n",
    "    tokenizer.pad_token = tokenizer.eos_token  # Set pad_token to eos_token if not already set\n",
    "\n",
    "def chat_with_huggingface(user_input, history=\"\"):\n",
    "    \"\"\"\n",
    "    Chat with Hugging Face model using proper attention masks.\n",
    "    :param user_input: User's input\n",
    "    :param history: Conversation history\n",
    "    :return: Chatbot's response\n",
    "    \"\"\"\n",
    "    # Encode input and history\n",
    "    input_ids = tokenizer.encode(history + user_input + tokenizer.eos_token, return_tensors=\"pt\", padding=True)\n",
    "\n",
    "    # Generate an attention mask\n",
    "    attention_mask = input_ids.ne(tokenizer.pad_token_id).int()\n",
    "\n",
    "    # Generate the chatbot's response\n",
    "    bot_output = model.generate(\n",
    "        input_ids,\n",
    "        attention_mask=attention_mask,\n",
    "        max_length=1000,\n",
    "        pad_token_id=tokenizer.pad_token_id\n",
    "    )\n",
    "    response = tokenizer.decode(bot_output[:, input_ids.shape[-1]:][0], skip_special_tokens=True)\n",
    "    return response\n",
    "\n",
    "# Example usage\n",
    "user_message = \"Hello! What can you do?\"\n",
    "response = chat_with_huggingface(user_message)\n",
    "print(\"Chatbot:\", response)\n"
   ]
  },
  {
   "cell_type": "code",
   "execution_count": 4,
   "id": "1d9126b0-76c6-4eb3-96c2-1b9943f3bb58",
   "metadata": {},
   "outputs": [
    {
     "name": "stdout",
     "output_type": "stream",
     "text": [
      "Requirement already satisfied: transformers in c:\\users\\rahul\\anaconda3\\lib\\site-packages (4.46.3)\n",
      "Requirement already satisfied: filelock in c:\\users\\rahul\\anaconda3\\lib\\site-packages (from transformers) (3.13.1)\n",
      "Requirement already satisfied: huggingface-hub<1.0,>=0.23.2 in c:\\users\\rahul\\anaconda3\\lib\\site-packages (from transformers) (0.26.2)\n",
      "Requirement already satisfied: numpy>=1.17 in c:\\users\\rahul\\anaconda3\\lib\\site-packages (from transformers) (1.26.4)\n",
      "Requirement already satisfied: packaging>=20.0 in c:\\users\\rahul\\anaconda3\\lib\\site-packages (from transformers) (23.1)\n",
      "Requirement already satisfied: pyyaml>=5.1 in c:\\users\\rahul\\anaconda3\\lib\\site-packages (from transformers) (6.0.1)\n",
      "Requirement already satisfied: regex!=2019.12.17 in c:\\users\\rahul\\anaconda3\\lib\\site-packages (from transformers) (2023.10.3)\n",
      "Requirement already satisfied: requests in c:\\users\\rahul\\anaconda3\\lib\\site-packages (from transformers) (2.31.0)\n",
      "Requirement already satisfied: tokenizers<0.21,>=0.20 in c:\\users\\rahul\\anaconda3\\lib\\site-packages (from transformers) (0.20.3)\n",
      "Requirement already satisfied: safetensors>=0.4.1 in c:\\users\\rahul\\anaconda3\\lib\\site-packages (from transformers) (0.4.5)\n",
      "Requirement already satisfied: tqdm>=4.27 in c:\\users\\rahul\\anaconda3\\lib\\site-packages (from transformers) (4.65.0)\n",
      "Requirement already satisfied: fsspec>=2023.5.0 in c:\\users\\rahul\\anaconda3\\lib\\site-packages (from huggingface-hub<1.0,>=0.23.2->transformers) (2023.10.0)\n",
      "Requirement already satisfied: typing-extensions>=3.7.4.3 in c:\\users\\rahul\\anaconda3\\lib\\site-packages (from huggingface-hub<1.0,>=0.23.2->transformers) (4.12.2)\n",
      "Requirement already satisfied: colorama in c:\\users\\rahul\\anaconda3\\lib\\site-packages (from tqdm>=4.27->transformers) (0.4.6)\n",
      "Requirement already satisfied: charset-normalizer<4,>=2 in c:\\users\\rahul\\anaconda3\\lib\\site-packages (from requests->transformers) (2.0.4)\n",
      "Requirement already satisfied: idna<4,>=2.5 in c:\\users\\rahul\\anaconda3\\lib\\site-packages (from requests->transformers) (3.4)\n",
      "Requirement already satisfied: urllib3<3,>=1.21.1 in c:\\users\\rahul\\anaconda3\\lib\\site-packages (from requests->transformers) (2.0.7)\n",
      "Requirement already satisfied: certifi>=2017.4.17 in c:\\users\\rahul\\anaconda3\\lib\\site-packages (from requests->transformers) (2024.8.30)\n",
      "Note: you may need to restart the kernel to use updated packages.\n"
     ]
    }
   ],
   "source": [
    "pip install transformers\n"
   ]
  },
  {
   "cell_type": "code",
   "execution_count": 5,
   "id": "2ecf467a-36bf-463f-933b-8271dd22215c",
   "metadata": {},
   "outputs": [],
   "source": [
    "import os\n",
    "\n",
    "# Disable the warning about symlinks\n",
    "os.environ[\"HF_HUB_DISABLE_SYMLINKS_WARNING\"] = \"1\"\n"
   ]
  },
  {
   "cell_type": "code",
   "execution_count": 6,
   "id": "fc828fff-c3ff-4cc7-913b-4a2805b91252",
   "metadata": {},
   "outputs": [
    {
     "name": "stdout",
     "output_type": "stream",
     "text": [
      "Requirement already satisfied: requests in c:\\users\\rahul\\anaconda3\\lib\\site-packages (2.31.0)\n",
      "Requirement already satisfied: charset-normalizer<4,>=2 in c:\\users\\rahul\\anaconda3\\lib\\site-packages (from requests) (2.0.4)\n",
      "Requirement already satisfied: idna<4,>=2.5 in c:\\users\\rahul\\anaconda3\\lib\\site-packages (from requests) (3.4)\n",
      "Requirement already satisfied: urllib3<3,>=1.21.1 in c:\\users\\rahul\\anaconda3\\lib\\site-packages (from requests) (2.0.7)\n",
      "Requirement already satisfied: certifi>=2017.4.17 in c:\\users\\rahul\\anaconda3\\lib\\site-packages (from requests) (2024.8.30)\n",
      "Note: you may need to restart the kernel to use updated packages.\n"
     ]
    }
   ],
   "source": [
    "pip install requests\n"
   ]
  },
  {
   "cell_type": "markdown",
   "id": "166d9621-aae6-4253-ab5e-5047a5062c51",
   "metadata": {},
   "source": [
    "# SCRAPPING THE WEBSITE"
   ]
  },
  {
   "cell_type": "code",
   "execution_count": 7,
   "id": "997c396f-9f8d-43f1-8940-dbd16dd6b8d3",
   "metadata": {},
   "outputs": [
    {
     "name": "stdin",
     "output_type": "stream",
     "text": [
      "Enter the website URL:  https://botpenguin.com/\n"
     ]
    },
    {
     "name": "stdout",
     "output_type": "stream",
     "text": [
      "\n",
      "Extracted Content:\n",
      "\n",
      "Title: Free Chatbot maker | Chatbot for Website, WhatsApp | BotPenguin\n",
      "\n",
      "Headings:\n",
      "Engage, Converse and Convertyour visitors using AI Chatbot Agent\n",
      "Performance Highlights\n",
      "An AI chatbot that can beanywhere, anytime\n",
      "Customize your AI Chatbot with GenerativeAI and Custom LLMs\n",
      "One platform with all the features you wantfrom your Chatbot Maker\n",
      "For every Business Problem, BotPenguinhas the Best Solution\n",
      "Achieve 70% higher conversionswith AI Chatbot\n",
      "What makes BotPenguin the idealAI Chatbot Solution Provider?\n",
      "BotPenguin’s AI Chatbot hassomething special for every industry\n",
      "Integrate with your favorite applications andconfigure for a seamless experience\n",
      "Your Privacy, Our Priority\n",
      "100%DataSecurity\n",
      "What our Customers say\n",
      "Solve 80% of customer querieswith AI Chatbot\n",
      "Omnichannel Customer Support\n",
      "Marketing Automations\n",
      "Generate More Sales\n",
      "Better E-Commerce\n",
      "Live Chat\n",
      "Unified Inbox\n",
      "Endless Integrations\n",
      "Onboarding Support and Guidance\n",
      "No-code Chatflow Builder\n",
      "Zero Setup Fee\n",
      "Multilingual Chatbot\n",
      "Thorough AI Capabilities\n",
      "Advanced Analytics\n",
      "\n",
      "Content:\n",
      "Why BotPenguin Product Solutions Partners Resources Integrations Experience 80+ world-class integrations. Key Features Take your business to the next level with our awesome key features. Live Chat Stay in the loop with your clientele 24*7! Unified Inbox Serve your customers across all platforms. Analytics Speedtrack your growth with our top-of-the-line analytics tools! Mobile App Make, monitor, & manage your AI chatbots with our mobile app. CHATBOT COMPARISONS WHAT CAN IT DO? Marketing Automation Make marketing a boon from the automation gods! FB Automation Engage with your customers on a deeper level. WhatsApp Automation Get that nifty automation for WhatsApp too! Appointment Bookings No more delays, BotPenguin’s got you here! Customer Support Your customers are in for a treat with this automation. Lead Generation Gain more lead without any extra effort or expenses WHO CAN USE IT? Healthcare Give your patients world-class healthcare service! Education Make admissions and automate processes in a jiffy! E-commerce Create the best E-commerce service with ease! Real Estate Make Real Estate great again with BotPenguin! Consultants Boost up with our one-stop marketing solution! SaaS Take your SAAS game to the next level with BotPenguin! Tours & Travels Provide extraordinary tour and travel services with BotPenguin! Insurance Launch AI-driven Insurance Bot to Promote, Sell, & Manage Policies. WHERE CAN IT RUN? Instagram Chatbot Attract leads, boost sales, and chat 24/7 with Instagram Chatbots. WhatsApp Chatbot Start conversing like a real person with BotPenguin! Telegram Chatbot Cutting-edge features for you to grow your business on Telegram. Facebook Chatbot Do everything at once with BotPenguin on Facebook. Websites Chatbot BotPenguin grows your website and keeps your customers engaged. Wordpress Chatbot BotPenguin thrives on WordPress and makes it awesome. Microsoft Teams Chatbot Maximize your teams productivity with MS Teams Bot. Shopify Chatbot Boost your Shopify Business With BotPenguin’s AI-powered chatbot. WooCommerce Chatbot Sell effortlessly on your WooCommerce store with BotPenguin. Squarespace Chatbot Get the most out of Squarespace with BotPenguin CUSTOM DEVELOPMENT Whitelabel ChatGPT Apply your branding on ChatGPT, Launch your own AI platform ChatGPT Custom Plugins Integrate your service straight into ChatGPT Custom Chatbot Development Build enterprise-grade chatbots with the best ChatGPT Clone Add functionality and branding on ChatGPT HIRE DEVELOPERS Chatbot Developers Build Lighter, Faster, Smarter-Efficiently ChatGPT Developers Ride the GPT wave with trained surfers ChatGPT Consultants Advice that makes the difference in your AI journey PARTNER PROGRAMS Partners Home Join hands with us, and welcome growth WhatsApp Whitelabel Partners Conquer the WhatsApp land with BotPenguin’s White Label Platform Whitelabel Partners Say hi to the best Whitelabel chatbot platform ever Affiliate Partners Earn more and keep your clients happier Implementation Partners As they say, a partner is worth trillions! PARTNER PRICING Whitelabel Chatbot Pricing Our pricing for Whitelabel Chatbot Implementation Partnership Pricing Our pricing for Implementation Partnership OUR RESOURCES Blogs Read the latest blogs on chatbots, AI, automations & more Videos Watch tutorials, webinars, and demos to master our chatbots. Case Study Read how BotPenguin transformed business communication E-book Explore e-books written by experts for all your business needs! Help Docs Find detailed guides and tips for all your chatbot needs. Newsroom Explore how BotPenguin is making headlines in the chatbot industry. Community Support Join our vibrant community to unlock exclusive content & expert guidance LATEST BLOG Why is BotPenguin the best platform to develop a chatbot?  Introducing ChatGPT 4o for BotPenguin Create your first AI Chatbot BotPenguin’s Chatbot Maker & Live Chat for Website, WhatsApp, Facebook, Instagram & Telegram Generate 10x more leads Solve up to 80% of customer queries Engage 70% more visitors Earn 90% more revenue Trusted by40,000+Global Brands 193+ Countries Served 100Mn+ Messages Consumed 40k+ Total Customers 120+ Partners Keep your customers happy and engaged with an omnichannel presence across all popular platforms withBotPenguin’s chatbot maker platform WhatsApp Market and sell products on WhatsApp. Utilize AI for personalized conversation and grow your business with BotPenguin’s chatbot maker. Facebook Serve your customers on Facebook, 24x7. Enhance user experience with the best customer support ever. Telegram Run our Telegram chatbot to create your own custom chatbot tailored to your interests. Instagram Sell products directly through Instagram and automate replies to messages, stories, and comments to enhance user experience. Website Simplify lead generation, appointment booking, product marketing, and more with our multifunctional chatbot maker. MS Teams Use MS Teams AI chatbot for smooth collaboration, task automation, and FAQ handling.  Infuse ChatGPT4o’s LLM-powered magic to craft AI ChatbotAvatars that match your brand identity. Give chatbot your desired personality by adding brand tone, voice, and answer length Offer multi-language support for global reach Engage users with contextual conversations based on user interactions Train AI chatbot on multiple data sources - Docs, PDFs, Google Sheets, PPTs, Excel, and many more From customer support to AI conversations, BotPenguin covers every possibleaspect of being the most ‘complete’ chatbot platform. Connect with your customers on every platform they reach out to you on. Broadcast messages or schedule drip campaigns with a single click. Engage a wider audience with instant communication to convert leads easily. Send brochures, catalogs, and discount offers directly to your customers through WhatsApp chatbot. Ensure your services are available to your customers 24x7 through Live Chat integration. Receive messages and queries all in one smart inbox for better lead tracking. Streamline data through your desired CRMs, Payment Gateways, or other software. Automate the manual work of every department of your business with the onlycomplete all-in-one chatbot builder platform. Marketing Team Sales Team Support Team Engage instantly with visitors to convert them into customers and traffic into revenue. Segregate customers based on their demographics, purchasing habits or any criteria that you want. Attract more customers by showcasing products and catalogs tailored to their interests. BotPenguin goes beyond basic chatbot functionalities with advanced servicesand features, makin it the perfect AI Business Assistant for you. From the moment you contact us, you will get a dedicated support agent to help you throughout your chatbot journey. Easily build your own chatflow without any coding requirements. Start creating your own chatbot with zero setup fee and test it with a free forever plan. Reach a global audience and talk to them in their native language with multilingual support. Add custom LLMs, create desired AI persona, and much more with BotPenguin’s AI chatbot. Ensure you keep track of all the leads and business value generated with an advanced analytical dashboard. No matter what the industry, BotPenguin lets your business thrive easily. Ecommerce Sell and retain better with BotPenguin taking care of your ecommerce needs Education Keep your customers well informed and up to date with all the updates you push. Real Estate Automate your business showings, list properties & help your customers in one go! Consultants Make consulting super easy with BotPenguin doing most of the grunt work. Healthcare Help your patients book appointments, or reach out to a doc in just a few moments. Tour and Travels Exhibit tours, gain leads & give out excellent support to your customers in just few clicks. Enjoy our 80+ native integrations. Whether it’s CRMs, appointment schedulers or Analytics, we’ve got it all covered.Send data from your AI chatbot to your CRMs and other tools and vice versa. and more than 80 tools to integrate At BotPenguin, our highest priority is to provide maximum data security. We do not store any of your information ensuring all your data remains secure at all times. Delivering value, earning trust. Hear good words aboutBotPenguin on these platforms G2 \"Their ability to execute in a timely manner. If you want to start an AI Chatbot business then this is the place. - They have a great work environment, and know how important it is to be efficient.\" -Gustav Louv 5-Star Rating Capterra \"We are using BotPenguin for our Facebook bots, responding to Facebook messages automatically. Currently handling millions of messages on a monthly basis and really great product.\" -Twana D. 4.6-Star Rating Trustpilot \"Its Whatsapp Automation with API is really practical for sales & marketing objective. If it comes with analytics about campaign result it will be awesome.\" -BD Michae 5-Star Rating Good Firms \"Their timely communication is the reason for the great project management. Our descriptions are precisely translated into needs by BotPenguin, and they possess the necessary skill set to execute features in a timely manner.\" -Yashi Amola 5-Star Rating Crozdesk \"The team at BotPenguin contributed knowledge not just about using Generative AI but also about how these technologies may be customized to meet our needs in the asset and wealth management industry. It was amazing how well they could convert difficult technical ideas into workable, approachable solutions. Furthermore, the team at BotPenguin has shown a remarkable capacity for creative problem-solving, as demonstrated by their approach to challenging project specifications.\" -Phil Johnson 5-Star Rating BotPenguin is the best AI Chatbot maker platform. Create a Chatbot for WhatsApp, Website, Facebook Messenger, Telegram, WordPress & Shopify with BotPenguin - 100% FREE! Our chatbot creator helps with lead generation, appointment booking, customer support, marketing automation, WhatsApp & Facebook Automation for businesses. AI-powered No-Code chatbot maker with live chat plugin & ChatGPT integration. Mobile app Fully Operational Mobile app Fully Operational Platforms Partners Get Started Free Tools Integrations Resources Comparisons What you get Platforms Get Started Integrations Comparisons Partners Free Tools Resources What you get Copyright © 2018 - 2024 Relinns Technologies Pvt. Ltd. All RightsReserved.\n"
     ]
    }
   ],
   "source": [
    "from transformers import AutoTokenizer, AutoModelForCausalLM\n",
    "\n",
    "# Load tokenizer and model\n",
    "tokenizer = AutoTokenizer.from_pretrained(\"EleutherAI/gpt-neo-2.7B\")\n",
    "model = AutoModelForCausalLM.from_pretrained(\"EleutherAI/gpt-neo-2.7B\")\n",
    "\n",
    "tokenizer.pad_token = tokenizer.eos_token\n",
    "\n",
    "def ask_chatgpt(prompt, max_new_tokens=100):\n",
    "    \"\"\"\n",
    "    Queries GPT-Neo with the given prompt.\n",
    "    :param prompt: The user prompt\n",
    "    :param max_new_tokens: Number of tokens to generate\n",
    "    :return: The model's response\n",
    "    \"\"\"\n",
    "    try:\n",
    "        # Tokenize the input\n",
    "        inputs = tokenizer(prompt, return_tensors=\"pt\", truncation=True, padding=True)\n",
    "        input_ids = inputs[\"input_ids\"]\n",
    "        attention_mask = inputs[\"attention_mask\"]  # Attention mask is included\n",
    "\n",
    "        # Get the input length\n",
    "        input_length = input_ids.size(1)\n",
    "\n",
    "        # Truncate the input to ensure it fits within the model's token limit\n",
    "        max_input_length = 2048 - max_new_tokens\n",
    "        if input_length > max_input_length:\n",
    "            print(f\"Input is too long ({input_length} tokens). Truncating to {max_input_length} tokens.\")\n",
    "            input_ids = input_ids[:, -max_input_length:]  # Truncate from the beginning\n",
    "            attention_mask = attention_mask[:, -max_input_length:]  # Truncate the attention mask as well\n",
    "\n",
    "        # Generate a response\n",
    "        response = model.generate(\n",
    "            input_ids=input_ids,\n",
    "            attention_mask=attention_mask,  # Use the attention mask here\n",
    "            max_new_tokens=max_new_tokens,\n",
    "            pad_token_id=tokenizer.eos_token_id  # Handle padding\n",
    "        )\n",
    "\n",
    "        # Decode and return the response\n",
    "        return tokenizer.decode(response[0], skip_special_tokens=True)\n",
    "\n",
    "    except Exception as e:\n",
    "        return f\"Error generating response: {e}\"\n",
    "        \n",
    "import requests\n",
    "\n",
    "def fetch_website_content(url):\n",
    "    \"\"\"\n",
    "    Fetches and extracts relevant content from a given website URL.\n",
    "\n",
    "    :param url: The website URL to scrape\n",
    "    :return: Extracted content as a string\n",
    "    \"\"\"\n",
    "    try:\n",
    "        # Send a GET request to the URL\n",
    "        response = requests.get(url)\n",
    "        response.raise_for_status()  # Raise an HTTPError for bad responses (4xx and 5xx)\n",
    "        \n",
    "        # Parse the HTML content using BeautifulSoup\n",
    "        soup = BeautifulSoup(response.text, \"html.parser\")\n",
    "        \n",
    "        # Extract the title\n",
    "        title = soup.title.string if soup.title else \"No title available\"\n",
    "        \n",
    "        # Extract headings (h1, h2, h3)\n",
    "        headings = []\n",
    "        for tag in ['h1', 'h2', 'h3']:\n",
    "            headings.extend([heading.get_text(strip=True) for heading in soup.find_all(tag)])\n",
    "        \n",
    "        # Extract paragraphs\n",
    "        paragraphs = [p.get_text(strip=True) for p in soup.find_all('p')]\n",
    "        \n",
    "        # Combine extracted information\n",
    "        content = f\"Title: {title}\\n\\n\"\n",
    "        content += \"Headings:\\n\" + \"\\n\".join(headings) + \"\\n\\n\"\n",
    "        content += \"Content:\\n\" + \" \".join(paragraphs)\n",
    "        \n",
    "        return content if content.strip() else \"No relevant content found on the webpage.\"\n",
    "    \n",
    "    except requests.exceptions.RequestException as e:\n",
    "        return f\"Error fetching the website content: {e}\"\n",
    "    except Exception as e:\n",
    "        return f\"An unexpected error occurred: {e}\"\n",
    "\n",
    " # Main script\n",
    "if __name__ == \"__main__\":\n",
    "    # Input the website URL\n",
    "    url = input(\"Enter the website URL: \")\n",
    "    website_content = fetch_website_content(url)\n",
    "    \n",
    "    print(\"\\nExtracted Content:\\n\")\n",
    "    print(website_content)"
   ]
  },
  {
   "cell_type": "code",
   "execution_count": 8,
   "id": "d59e4465-92a5-41c9-8e52-fa1747d63e77",
   "metadata": {},
   "outputs": [
    {
     "name": "stdin",
     "output_type": "stream",
     "text": [
      "\n",
      "Enter your question:  services offered\n"
     ]
    },
    {
     "name": "stdout",
     "output_type": "stream",
     "text": [
      "Input is too long (2048 tokens). Truncating to 1948 tokens.\n",
      "\n",
      "GPT-Neo Response:\n",
      "\n",
      "inhas the Best Solution\n",
      "Achieve 70% higher conversionswith AI Chatbot\n",
      "What makes BotPenguin the idealAI Chatbot Solution Provider?\n",
      "BotPenguin’s AI Chatbot hassomething special for every industry\n",
      "Integrate with your favorite applications andconfigure for a seamless experience\n",
      "Your Privacy, Our Priority\n",
      "100%DataSecurity\n",
      "What our Customers say\n",
      "Solve 80% of customer querieswith AI Chatbot\n",
      "Omnichannel Customer Support\n",
      "Marketing Automations\n",
      "Generate More Sales\n",
      "Better E-Commerce\n",
      "Live Chat\n",
      "Unified Inbox\n",
      "Endless Integrations\n",
      "Onboarding Support and Guidance\n",
      "No-code Chatflow Builder\n",
      "Zero Setup Fee\n",
      "Multilingual Chatbot\n",
      "Thorough AI Capabilities\n",
      "Advanced Analytics\n",
      "\n",
      "Content:\n",
      "Why BotPenguin Product Solutions Partners Resources Integrations Experience 80+ world-class integrations. Key Features Take your business to the next level with our awesome key features. Live Chat Stay in the loop with your clientele 24*7! Unified Inbox Serve your customers across all platforms. Analytics Speedtrack your growth with our top-of-the-line analytics tools! Mobile App Make, monitor, & manage your AI chatbots with our mobile app. CHATBOT COMPARISONS WHAT CAN IT DO? Marketing Automation Make marketing a boon from the automation gods! FB Automation Engage with your customers on a deeper level. WhatsApp Automation Get that nifty automation for WhatsApp too! Appointment Bookings No more delays, BotPenguin’s got you here! Customer Support Your customers are in for a treat with this automation. Lead Generation Gain more lead without any extra effort or expenses WHO CAN USE IT? Healthcare Give your patients world-class healthcare service! Education Make admissions and automate processes in a jiffy! E-commerce Create the best E-commerce service with ease! Real Estate Make Real Estate great again with BotPenguin! Consultants Boost up with our one-stop marketing solution! SaaS Take your SAAS game to the next level with BotPenguin! Tours & Travels Provide extraordinary tour and travel services with BotPenguin! Insurance Launch AI-driven Insurance Bot to Promote, Sell, & Manage Policies. WHERE CAN IT RUN? Instagram Chatbot Attract leads, boost sales, and chat 24/7 with Instagram Chatbots. WhatsApp Chatbot Start conversing like a real person with BotPenguin! Telegram Chatbot Cutting-edge features for you to grow your business on Telegram. Facebook Chatbot Do everything at once with BotPenguin on Facebook. Websites Chatbot BotPenguin grows your website and keeps your customers engaged. Wordpress Chatbot BotPenguin thrives on WordPress and makes it awesome. Microsoft Teams Chatbot Maximize your teams productivity with MS Teams Bot. Shopify Chatbot Boost your Shopify Business With BotPenguin’s AI-powered chatbot. WooCommerce Chatbot Sell effortlessly on your WooCommerce store with BotPenguin. Squarespace Chatbot Get the most out of Squarespace with BotPenguin CUSTOM DEVELOPMENT Whitelabel ChatGPT Apply your branding on ChatGPT, Launch your own AI platform ChatGPT Custom Plugins Integrate your service straight into ChatGPT Custom Chatbot Development Build enterprise-grade chatbots with the best ChatGPT Clone Add functionality and branding on ChatGPT HIRE DEVELOPERS Chatbot Developers Build Lighter, Faster, Smarter-Efficiently ChatGPT Developers Ride the GPT wave with trained surfers ChatGPT Consultants Advice that makes the difference in your AI journey PARTNER PROGRAMS Partners Home Join hands with us, and welcome growth WhatsApp Whitelabel Partners Conquer the WhatsApp land with BotPenguin’s White Label Platform Whitelabel Partners Say hi to the best Whitelabel chatbot platform ever Affiliate Partners Earn more and keep your clients happier Implementation Partners As they say, a partner is worth trillions! PARTNER PRICING Whitelabel Chatbot Pricing Our pricing for Whitelabel Chatbot Implementation Partnership Pricing Our pricing for Implementation Partnership OUR RESOURCES Blogs Read the latest blogs on chatbots, AI, automations & more Videos Watch tutorials, webinars, and demos to master our chatbots. Case Study Read how BotPenguin transformed business communication E-book Explore e-books written by experts for all your business needs! Help Docs Find detailed guides and tips for all your chatbot needs. Newsroom Explore how BotPenguin is making headlines in the chatbot industry. Community Support Join our vibrant community to unlock exclusive content & expert guidance LATEST BLOG Why is BotPenguin the best platform to develop a chatbot?  Introducing ChatGPT 4o for BotPenguin Create your first AI Chatbot BotPenguin’s Chatbot Maker & Live Chat for Website, WhatsApp, Facebook, Instagram & Telegram Generate 10x more leads Solve up to 80% of customer queries Engage 70% more visitors Earn 90% more revenue Trusted by40,000+Global Brands 193+ Countries Served 100Mn+ Messages Consumed 40k+ Total Customers 120+ Partners Keep your customers happy and engaged with an omnichannel presence across all popular platforms withBotPenguin’s chatbot maker platform WhatsApp Market and sell products on WhatsApp. Utilize AI for personalized conversation and grow your business with BotPenguin’s chatbot maker. Facebook Serve your customers on Facebook, 24x7. Enhance user experience with the best customer support ever. Telegram Run our Telegram chatbot to create your own custom chatbot tailored to your interests. Instagram Sell products directly through Instagram and automate replies to messages, stories, and comments to enhance user experience. Website Simplify lead generation, appointment booking, product marketing, and more with our multifunctional chatbot maker. MS Teams Use MS Teams AI chatbot for smooth collaboration, task automation, and FAQ handling.  Infuse ChatGPT4o’s LLM-powered magic to craft AI ChatbotAvatars that match your brand identity. Give chatbot your desired personality by adding brand tone, voice, and answer length Offer multi-language support for global reach Engage users with contextual conversations based on user interactions Train AI chatbot on multiple data sources - Docs, PDFs, Google Sheets, PPTs, Excel, and many more From customer support to AI conversations, BotPenguin covers every possibleaspect of being the most ‘complete’ chatbot platform. Connect with your customers on every platform they reach out to you on. Broadcast messages or schedule drip campaigns with a single click. Engage a wider audience with instant communication to convert leads easily. Send brochures, catalogs, and discount offers directly to your customers through WhatsApp chatbot. Ensure your services are available to your customers 24x7 through Live Chat integration. Receive messages and queries all in one smart inbox for better lead tracking. Streamline data through your desired CRMs, Payment Gateways, or other software. Automate the manual work of every department of your business with the onlycomplete all-in-one chatbot builder platform. Marketing Team Sales Team Support Team Engage instantly with visitors to convert them into customers and traffic into revenue. Segregate customers based on their demographics, purchasing habits or any criteria that you want. Attract more customers by showcasing products and catalogs tailored to their interests. BotPenguin goes beyond basic chatbot functionalities with advanced servicesand features, makin it the perfect AI Business Assistant for you. From the moment you contact us, you will get a dedicated support agent to help you throughout your chatbot journey. Easily build your own chatflow without any coding requirements. Start creating your own chatbot with zero setup fee and test it with a free forever plan. Reach a global audience and talk to them in their native language with multilingual support. Add custom LLMs, create desired AI persona, and much more with BotPenguin’s AI chatbot. Ensure you keep track of all the leads and business value generated with an advanced analytical dashboard. No matter what the industry, BotPenguin lets your business thrive easily. Ecommerce Sell and retain better with BotPenguin taking care of your ecommerce needs Education Keep your customers well informed and up to date with all the updates you push. Real Estate Automate your business showings, list properties & help your customers in one go! Consultants Make consulting super easy with BotPenguin doing most of the grunt work. Healthcare Help your patients book appointments, or reach out to a doc in just a few moments. Tour and Travels Exhibit tours, gain leads & give out excellent support to your customers in just few clicks. Enjoy our 80+ native integrations. Whether it’s CRMs, appointment schedulers or Analytics, we’ve got it all covered.Send data from your AI chatbot to your CRMs and other tools and vice versa. and more than 80 tools to integrate At BotPenguin, our highest priority is to provide maximum data security. We do not store any of your information ensuring all your data remains secure at all times. Delivering value, earning trust. Hear good words aboutBotPenguin on these platforms G2 \"Their ability to execute in a timely manner. If you want to start an AI Chatbot business then this is the platform to do it with. They have a great team of experts who are very knowledgeable and have a lot of experience in the AI Chatbot space. They have a great team of experts who are very knowledgeable and have a lot of experience in the AI Chatbot space. They have a great team of experts who are very knowledgeable and have a lot of experience in the AI Chatbot space. They have a great team of experts who are very knowledgeable and have a lot of experience in the AI Chat\n"
     ]
    }
   ],
   "source": [
    "# Input user query\n",
    "user_query = input(\"\\nEnter your question: \")\n",
    "    \n",
    "    # Prepare the prompt for GPT-Neo\n",
    "prompt = f\"Based on the following website content:\\n{website_content}\\n\\nUser: {user_query}\"\n",
    "    \n",
    "    # Get response from GPT-Neo model\n",
    "response = ask_chatgpt(prompt)\n",
    "print(\"\\nGPT-Neo Response:\\n\")\n",
    "print(response)"
   ]
  },
  {
   "cell_type": "markdown",
   "id": "1b5983ee-0328-449c-89b3-cec2883a0945",
   "metadata": {},
   "source": [
    "# STRUCTURING THE CONTENT"
   ]
  },
  {
   "cell_type": "code",
   "execution_count": 18,
   "id": "f6b13e4d-20cc-482a-b71d-6efa901f7b21",
   "metadata": {},
   "outputs": [
    {
     "name": "stdout",
     "output_type": "stream",
     "text": [
      "Structured Content for Chatbot Input:\n",
      "{'title': 'Free Chatbot maker | Chatbot for Website, WhatsApp | BotPenguin', 'headings': ['Engage, Converse and Convert your visitors using AI Chatbot Agent\\n', 'Performance Highlights\\n', 'What makes BotPenguin the ideal AI Chatbot Solution Provider', 'Marketing Automations\\n', 'Better E', 'Commerce\\n', 'Omnichannel Customer Support\\n', 'Lead Generation\\n\\nContent', 'One platform with all the features you want from your Chatbot Maker', 'Achieve 70', 'Integrate with your favorite applications for a seamless experience', 'Multilingual Chatbot support available'], 'key_content': ['- One platform with all the features you want from your Chatbot Maker.', 'Achieve 70% higher conversions with AI Chatbot.', 'Integrate with your favorite applications for a seamless experience.', 'Multilingual Chatbot support available.']}\n"
     ]
    }
   ],
   "source": [
    "import re\n",
    "from bs4 import BeautifulSoup\n",
    "\n",
    "# Sample scraped content (simplified for demonstration)\n",
    "scraped_content = \"\"\"\n",
    "Title: Free Chatbot maker | Chatbot for Website, WhatsApp | BotPenguin\n",
    "Headings:\n",
    "- Engage, Converse and Convert your visitors using AI Chatbot Agent\n",
    "- Performance Highlights\n",
    "- What makes BotPenguin the ideal AI Chatbot Solution Provider?\n",
    "- Marketing Automations\n",
    "- Better E-Commerce\n",
    "- Omnichannel Customer Support\n",
    "- Lead Generation\n",
    "\n",
    "Content:\n",
    "- One platform with all the features you want from your Chatbot Maker.\n",
    "- Achieve 70% higher conversions with AI Chatbot.\n",
    "- Integrate with your favorite applications for a seamless experience.\n",
    "- Multilingual Chatbot support available.\n",
    "\"\"\"\n",
    "\n",
    "def extract_and_structure_content(content):\n",
    "    # Step 1: Extract Title\n",
    "    title_match = re.search(r\"Title:\\s*(.*)\", content)\n",
    "    title = title_match.group(1) if title_match else \"No title found\"\n",
    "\n",
    "    # Step 2: Extract Headings\n",
    "    headings = re.findall(r\"-\\s*([A-Za-z0-9\\s,&]+)\", content)\n",
    "\n",
    "    # Step 3: Extract Key Content (bullet points or descriptions)\n",
    "    key_content = []\n",
    "    content_match = re.search(r\"Content:\\s*(.*)\", content, re.DOTALL)\n",
    "    if content_match:\n",
    "        # Capture all text under \"Content\" heading and split by bullet points\n",
    "        key_content = content_match.group(1).strip().split(\"\\n- \")\n",
    "    \n",
    "    # Step 4: Prepare structured data for input to the chatbot model\n",
    "    structured_data = {\n",
    "        \"title\": title,\n",
    "        \"headings\": headings,\n",
    "        \"key_content\": key_content\n",
    "    }\n",
    "\n",
    "    return structured_data\n",
    "\n",
    "# Extract structured content from the raw scraped content\n",
    "structured_content = extract_and_structure_content(scraped_content)\n",
    "\n",
    "# Display the structured content\n",
    "print(\"Structured Content for Chatbot Input:\")\n",
    "print(structured_content)"
   ]
  },
  {
   "cell_type": "code",
   "execution_count": 20,
   "id": "aaadd4e7-feea-4cc5-9def-968df2af6c99",
   "metadata": {},
   "outputs": [
    {
     "name": "stdout",
     "output_type": "stream",
     "text": [
      "Requirement already satisfied: torch in c:\\users\\rahul\\anaconda3\\lib\\site-packages (2.5.1)Note: you may need to restart the kernel to use updated packages.\n",
      "\n",
      "Requirement already satisfied: torchvision in c:\\users\\rahul\\anaconda3\\lib\\site-packages (0.20.1)\n",
      "Requirement already satisfied: torchaudio in c:\\users\\rahul\\anaconda3\\lib\\site-packages (2.5.1)\n",
      "Requirement already satisfied: filelock in c:\\users\\rahul\\anaconda3\\lib\\site-packages (from torch) (3.13.1)\n",
      "Requirement already satisfied: typing-extensions>=4.8.0 in c:\\users\\rahul\\anaconda3\\lib\\site-packages (from torch) (4.12.2)\n",
      "Requirement already satisfied: networkx in c:\\users\\rahul\\anaconda3\\lib\\site-packages (from torch) (3.1)\n",
      "Requirement already satisfied: jinja2 in c:\\users\\rahul\\anaconda3\\lib\\site-packages (from torch) (3.1.3)\n",
      "Requirement already satisfied: fsspec in c:\\users\\rahul\\anaconda3\\lib\\site-packages (from torch) (2023.10.0)\n",
      "Requirement already satisfied: sympy==1.13.1 in c:\\users\\rahul\\anaconda3\\lib\\site-packages (from torch) (1.13.1)\n",
      "Requirement already satisfied: mpmath<1.4,>=1.1.0 in c:\\users\\rahul\\anaconda3\\lib\\site-packages (from sympy==1.13.1->torch) (1.3.0)\n",
      "Requirement already satisfied: numpy in c:\\users\\rahul\\anaconda3\\lib\\site-packages (from torchvision) (1.26.4)\n",
      "Requirement already satisfied: pillow!=8.3.*,>=5.3.0 in c:\\users\\rahul\\anaconda3\\lib\\site-packages (from torchvision) (10.2.0)\n",
      "Requirement already satisfied: MarkupSafe>=2.0 in c:\\users\\rahul\\anaconda3\\lib\\site-packages (from jinja2->torch) (2.1.3)\n"
     ]
    }
   ],
   "source": [
    "pip install torch torchvision torchaudio"
   ]
  },
  {
   "cell_type": "code",
   "execution_count": null,
   "id": "33707d74-4a42-4f32-bfdf-4d494ed0c9b0",
   "metadata": {},
   "outputs": [
    {
     "name": "stdout",
     "output_type": "stream",
     "text": [
      "Hello! I am the BotPenguin chatbot. Ask me anything related to our services.\n",
      "Type 'exit' to end the conversation.\n"
     ]
    },
    {
     "name": "stdin",
     "output_type": "stream",
     "text": [
      "Enter your question:  services\n"
     ]
    },
    {
     "name": "stdout",
     "output_type": "stream",
     "text": [
      "Bot: Our bots have been programmed to respond to emails, phone calls, text messages, chat messages and other communications, even when users are offline. For instance, we can respond quickly to a contact that's trying to go shopping. We even set up a bot to read emails on our behalf\n"
     ]
    },
    {
     "name": "stdin",
     "output_type": "stream",
     "text": [
      "Enter your question:  history about the website \n"
     ]
    },
    {
     "name": "stdout",
     "output_type": "stream",
     "text": [
      "Bot: This is a very useful guide. If you have any questions or requests, please feel free.\n"
     ]
    },
    {
     "name": "stdin",
     "output_type": "stream",
     "text": [
      "Enter your question:  pricing ?\n"
     ]
    },
    {
     "name": "stdout",
     "output_type": "stream",
     "text": [
      "Bot: I am currently working on a new project, a demo, with a lot of help from other developers.\n",
      "Thanks for your interest in this project. I hope to get your feedback on it as soon as possible.\n"
     ]
    },
    {
     "name": "stdin",
     "output_type": "stream",
     "text": [
      "Enter your question:  features\n"
     ]
    },
    {
     "name": "stdout",
     "output_type": "stream",
     "text": [
      "Bot: I believe I've had a lot of fun with BotBotPengo. The team is very active and is doing a great job, but I have had some frustrations with their lack of development and development cycles. A lot is at stake and\n"
     ]
    },
    {
     "name": "stdin",
     "output_type": "stream",
     "text": [
      "Enter your question:  multilingual\n"
     ]
    },
    {
     "name": "stdout",
     "output_type": "stream",
     "text": [
      "Bot: We can provide more information about your experience with the Bot. We want to provide you with a list of supported languages. You can find more details about each language in our \"Language Settings\".\n",
      "What is the latest version of Bot?\n",
      "BotPeng.com is a free and open source online learning tool. It is designed\n"
     ]
    }
   ],
   "source": [
    "from transformers import GPT2LMHeadModel, GPT2Tokenizer\n",
    "import torch\n",
    "\n",
    "# Structured Content for Chatbot Input\n",
    "website_content = {\n",
    "    'title': 'Free Chatbot maker | Chatbot for Website, WhatsApp | BotPenguin',\n",
    "    'headings': [\n",
    "        'Engage, Converse and Convert your visitors using AI Chatbot Agent',\n",
    "        'Performance Highlights',\n",
    "        'What makes BotPenguin the ideal AI Chatbot Solution Provider',\n",
    "        'Marketing Automations',\n",
    "        'Better E',\n",
    "        'Commerce',\n",
    "        'Omnichannel Customer Support',\n",
    "        'Lead Generation',\n",
    "        'One platform with all the features you want from your Chatbot Maker',\n",
    "        'Achieve 70',\n",
    "        'Integrate with your favorite applications for a seamless experience',\n",
    "        'Multilingual Chatbot support available'\n",
    "    ],\n",
    "    'key_content': [\n",
    "        'One platform with all the features you want from your Chatbot Maker.',\n",
    "        'Achieve 70% higher conversions with AI Chatbot.',\n",
    "        'Integrate with your favorite applications for a seamless experience.',\n",
    "        'Multilingual Chatbot support available.'\n",
    "    ]\n",
    "}\n",
    "\n",
    "# Load GPT-2 model and tokenizer\n",
    "tokenizer = GPT2Tokenizer.from_pretrained(\"gpt2\")\n",
    "model = GPT2LMHeadModel.from_pretrained(\"gpt2\")\n",
    "\n",
    "# Ensure the model is in evaluation mode\n",
    "model.eval()\n",
    "\n",
    "def generate_response(user_input, context):\n",
    "    \"\"\"\n",
    "    Generate a response to the user based on their input and website context.\n",
    "    \"\"\"\n",
    "    # Normalize user input to lowercase for easier keyword matching\n",
    "    user_input = user_input.lower().strip()\n",
    "\n",
    "    # Check for specific keywords in user input and provide relevant predefined responses\n",
    "    if \"features\" in user_input or \"platform\" in user_input:\n",
    "        relevant_info = \"BotPenguin is a feature-rich platform offering a wide range of tools for AI Chatbots, including lead generation, marketing automation, omnichannel support, and more.\"\n",
    "    elif \"conversions\" in user_input or \"conversion\" in user_input:\n",
    "        relevant_info = \"Achieve 70% higher conversions with BotPenguin’s AI-powered chatbots. We help businesses boost their conversion rates through automation.\"\n",
    "    elif \"integration\" in user_input:\n",
    "        relevant_info = \"BotPenguin can seamlessly integrate with over 80 platforms, providing a unified experience for businesses.\"\n",
    "    elif \"multilingual\" in user_input:\n",
    "        relevant_info = \"BotPenguin’s chatbot supports multiple languages, ensuring seamless communication across regions.\"\n",
    "    elif \"omnichannel\" in user_input:\n",
    "        relevant_info = \"BotPenguin provides omnichannel support, ensuring you can engage with users on websites, WhatsApp, and more.\"\n",
    "    elif \"lead generation\" in user_input:\n",
    "        relevant_info = \"BotPenguin’s AI chatbot is designed to assist in lead generation by automating customer interactions and capturing relevant data.\"\n",
    "    elif \"marketing automation\" in user_input:\n",
    "        relevant_info = \"BotPenguin includes marketing automation tools to optimize customer engagement and increase conversion rates.\"\n",
    "    elif \"help\" in user_input or \"services\" in user_input:\n",
    "        relevant_info = \"BotPenguin provides a comprehensive suite of services for businesses, including AI-powered chatbots, customer support, lead generation, and more.\"\n",
    "    else:\n",
    "        # If no match found, generate a more dynamic response\n",
    "        relevant_info = generate_dynamic_response(user_input)\n",
    "    \n",
    "    # Construct the prompt to give clear context to the model\n",
    "    prompt = f\"User Input: {user_input}\\nRelevant Information from Website: {relevant_info}\\nResponse:\"\n",
    "\n",
    "    # Encode the input prompt\n",
    "    input_ids = tokenizer.encode(prompt, return_tensors=\"pt\")\n",
    "\n",
    "    # Attention mask to handle padding tokens\n",
    "    attention_mask = torch.ones(input_ids.shape, dtype=torch.long)\n",
    "\n",
    "    # Generate the response using GPT-2 with sampling enabled for more natural output\n",
    "    with torch.no_grad():\n",
    "        output = model.generate(\n",
    "            input_ids,\n",
    "            max_length=100,  # Increase response length slightly for more detail\n",
    "            num_return_sequences=1,\n",
    "            attention_mask=attention_mask,\n",
    "            do_sample=True,  # Allow randomness to avoid repetitive responses\n",
    "            temperature=0.7,  # Control randomness in the output\n",
    "            eos_token_id=tokenizer.eos_token_id,  # Stop at end-of-sequence token\n",
    "            pad_token_id=tokenizer.eos_token_id,  # Set pad_token_id to eos_token_id to avoid warning\n",
    "            no_repeat_ngram_size=2,  # Avoid repeating n-grams in the output (e.g., avoid repeated phrases)\n",
    "            top_p=0.95,  # Use nucleus sampling for more natural and diverse outputs\n",
    "            top_k=50  # Use top-k sampling to limit the options and avoid overfitting to common words\n",
    "        )\n",
    "\n",
    "    # Decode and clean the output\n",
    "    response = tokenizer.decode(output[0], skip_special_tokens=True)\n",
    "    \n",
    "    # Remove the prompt portion to get only the generated response\n",
    "    response = response.replace(prompt, '').strip()\n",
    "\n",
    "    # Return the cleaned response\n",
    "    return response\n",
    "\n",
    "def generate_dynamic_response(user_input):\n",
    "    \"\"\"\n",
    "    Function to dynamically generate a response for questions that don't directly match the structured content.\n",
    "    \"\"\"\n",
    "    # If the question doesn't match any known content, we generate a fallback response\n",
    "    return \"I am still learning, but I can help with information about features, services, lead generation, and more. Feel free to ask about anything!\"\n",
    "\n",
    "# Main chatbot loop for testing\n",
    "def chatbot():\n",
    "    print(\"Hello! I am the BotPenguin chatbot. Ask me anything related to our services.\")\n",
    "    print(\"Type 'exit' to end the conversation.\")\n",
    "    \n",
    "    conversation_history = \"\"  # Maintain conversation history to make responses more coherent\n",
    "    \n",
    "    while True:\n",
    "        # Get user input\n",
    "        user_input = input(\"Enter your question: \")\n",
    "        \n",
    "        if user_input.lower() == 'exit':\n",
    "            print(\"Goodbye!\")\n",
    "            break\n",
    "        \n",
    "        # Update the conversation history to maintain context\n",
    "        conversation_history += f\"User: {user_input}\\n\"\n",
    "\n",
    "        # Generate the response\n",
    "        response = generate_response(user_input, website_content)\n",
    "        \n",
    "        # Update the conversation history with the bot's response\n",
    "        conversation_history += f\"Bot: {response}\\n\"\n",
    "        \n",
    "        # Print the bot's response\n",
    "        print(f\"Bot: {response}\")\n",
    "\n",
    "if __name__ == \"__main__\":\n",
    "    chatbot()\n"
   ]
  },
  {
   "cell_type": "code",
   "execution_count": null,
   "id": "14e5d5f6-b8b2-4443-a7fb-74965ff56546",
   "metadata": {},
   "outputs": [],
   "source": []
  }
 ],
 "metadata": {
  "kernelspec": {
   "display_name": "Python 3 (ipykernel)",
   "language": "python",
   "name": "python3"
  },
  "language_info": {
   "codemirror_mode": {
    "name": "ipython",
    "version": 3
   },
   "file_extension": ".py",
   "mimetype": "text/x-python",
   "name": "python",
   "nbconvert_exporter": "python",
   "pygments_lexer": "ipython3",
   "version": "3.11.7"
  }
 },
 "nbformat": 4,
 "nbformat_minor": 5
}
